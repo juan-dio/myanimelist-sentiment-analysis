{
 "cells": [
  {
   "cell_type": "code",
   "execution_count": 1,
   "metadata": {},
   "outputs": [],
   "source": [
    "import pandas as pd\n",
    "from nltk.sentiment import SentimentIntensityAnalyzer\n",
    "import nltk"
   ]
  },
  {
   "cell_type": "code",
   "execution_count": 3,
   "metadata": {},
   "outputs": [
    {
     "name": "stderr",
     "output_type": "stream",
     "text": [
      "[nltk_data] Downloading package vader_lexicon to\n",
      "[nltk_data]     C:\\Users\\Juan\\AppData\\Roaming\\nltk_data...\n"
     ]
    },
    {
     "data": {
      "text/plain": [
       "True"
      ]
     },
     "execution_count": 3,
     "metadata": {},
     "output_type": "execute_result"
    }
   ],
   "source": [
    "# Download VADER resource\n",
    "nltk.download('vader_lexicon')"
   ]
  },
  {
   "cell_type": "code",
   "execution_count": 3,
   "metadata": {},
   "outputs": [
    {
     "data": {
      "text/html": [
       "<div>\n",
       "<style scoped>\n",
       "    .dataframe tbody tr th:only-of-type {\n",
       "        vertical-align: middle;\n",
       "    }\n",
       "\n",
       "    .dataframe tbody tr th {\n",
       "        vertical-align: top;\n",
       "    }\n",
       "\n",
       "    .dataframe thead th {\n",
       "        text-align: right;\n",
       "    }\n",
       "</style>\n",
       "<table border=\"1\" class=\"dataframe\">\n",
       "  <thead>\n",
       "    <tr style=\"text-align: right;\">\n",
       "      <th></th>\n",
       "      <th>title</th>\n",
       "      <th>review</th>\n",
       "    </tr>\n",
       "  </thead>\n",
       "  <tbody>\n",
       "    <tr>\n",
       "      <th>0</th>\n",
       "      <td>Beastars Final Season</td>\n",
       "      <td>First review here so please bear with meBeen a...</td>\n",
       "    </tr>\n",
       "    <tr>\n",
       "      <th>1</th>\n",
       "      <td>Clannad: Mou Hitotsu no Sekai, Tomoyo-hen</td>\n",
       "      <td>I've come to realize that I kind of do like th...</td>\n",
       "    </tr>\n",
       "    <tr>\n",
       "      <th>2</th>\n",
       "      <td>Kimi wa Meido-sama.</td>\n",
       "      <td>nah you gotta pass this one honestly its way t...</td>\n",
       "    </tr>\n",
       "    <tr>\n",
       "      <th>3</th>\n",
       "      <td>Cyberpunk: Edgerunners</td>\n",
       "      <td>Bro... I ain't even know where to begin with t...</td>\n",
       "    </tr>\n",
       "    <tr>\n",
       "      <th>4</th>\n",
       "      <td>Vivy: Fluorite Eye's Song</td>\n",
       "      <td>Why are you reading this review and not watchi...</td>\n",
       "    </tr>\n",
       "  </tbody>\n",
       "</table>\n",
       "</div>"
      ],
      "text/plain": [
       "                                       title  \\\n",
       "0                      Beastars Final Season   \n",
       "1  Clannad: Mou Hitotsu no Sekai, Tomoyo-hen   \n",
       "2                        Kimi wa Meido-sama.   \n",
       "3                     Cyberpunk: Edgerunners   \n",
       "4                  Vivy: Fluorite Eye's Song   \n",
       "\n",
       "                                              review  \n",
       "0  First review here so please bear with meBeen a...  \n",
       "1  I've come to realize that I kind of do like th...  \n",
       "2  nah you gotta pass this one honestly its way t...  \n",
       "3  Bro... I ain't even know where to begin with t...  \n",
       "4  Why are you reading this review and not watchi...  "
      ]
     },
     "execution_count": 3,
     "metadata": {},
     "output_type": "execute_result"
    }
   ],
   "source": [
    "# Load file\n",
    "input_file_path = '../datasets/top_anime_reviews.csv'\n",
    "output_file_path = '../datasets/top_anime_reviews_labeled.csv'\n",
    "\n",
    "# Read csv file\n",
    "df = pd.read_csv(input_file_path)\n",
    "\n",
    "df.head()"
   ]
  },
  {
   "cell_type": "code",
   "execution_count": 4,
   "metadata": {},
   "outputs": [],
   "source": [
    "# Inisialisasi VADER Sentiment Analyzer\n",
    "sia = SentimentIntensityAnalyzer()"
   ]
  },
  {
   "cell_type": "code",
   "execution_count": 5,
   "metadata": {},
   "outputs": [],
   "source": [
    "# Fungsi untuk menghitung polarity score\n",
    "def polarity_score(text):\n",
    "  scores = sia.polarity_scores(str(text))  # Convert to string in case of missing values\n",
    "  return scores['compound']"
   ]
  },
  {
   "cell_type": "code",
   "execution_count": 6,
   "metadata": {},
   "outputs": [],
   "source": [
    "# Fungsi untuk memberikan label sentiment\n",
    "def label_sentiment(score):\n",
    "  if score >= 0.05:\n",
    "    return 'positive'\n",
    "  elif score <= -0.05:\n",
    "    return 'negative'\n",
    "  else:\n",
    "    return 'neutral'"
   ]
  },
  {
   "cell_type": "code",
   "execution_count": 7,
   "metadata": {},
   "outputs": [
    {
     "data": {
      "text/html": [
       "<div>\n",
       "<style scoped>\n",
       "    .dataframe tbody tr th:only-of-type {\n",
       "        vertical-align: middle;\n",
       "    }\n",
       "\n",
       "    .dataframe tbody tr th {\n",
       "        vertical-align: top;\n",
       "    }\n",
       "\n",
       "    .dataframe thead th {\n",
       "        text-align: right;\n",
       "    }\n",
       "</style>\n",
       "<table border=\"1\" class=\"dataframe\">\n",
       "  <thead>\n",
       "    <tr style=\"text-align: right;\">\n",
       "      <th></th>\n",
       "      <th>title</th>\n",
       "      <th>review</th>\n",
       "      <th>score</th>\n",
       "    </tr>\n",
       "  </thead>\n",
       "  <tbody>\n",
       "    <tr>\n",
       "      <th>0</th>\n",
       "      <td>Beastars Final Season</td>\n",
       "      <td>First review here so please bear with meBeen a...</td>\n",
       "      <td>0.9930</td>\n",
       "    </tr>\n",
       "    <tr>\n",
       "      <th>1</th>\n",
       "      <td>Clannad: Mou Hitotsu no Sekai, Tomoyo-hen</td>\n",
       "      <td>I've come to realize that I kind of do like th...</td>\n",
       "      <td>0.9076</td>\n",
       "    </tr>\n",
       "    <tr>\n",
       "      <th>2</th>\n",
       "      <td>Kimi wa Meido-sama.</td>\n",
       "      <td>nah you gotta pass this one honestly its way t...</td>\n",
       "      <td>0.9657</td>\n",
       "    </tr>\n",
       "    <tr>\n",
       "      <th>3</th>\n",
       "      <td>Cyberpunk: Edgerunners</td>\n",
       "      <td>Bro... I ain't even know where to begin with t...</td>\n",
       "      <td>-0.9618</td>\n",
       "    </tr>\n",
       "    <tr>\n",
       "      <th>4</th>\n",
       "      <td>Vivy: Fluorite Eye's Song</td>\n",
       "      <td>Why are you reading this review and not watchi...</td>\n",
       "      <td>0.9878</td>\n",
       "    </tr>\n",
       "  </tbody>\n",
       "</table>\n",
       "</div>"
      ],
      "text/plain": [
       "                                       title  \\\n",
       "0                      Beastars Final Season   \n",
       "1  Clannad: Mou Hitotsu no Sekai, Tomoyo-hen   \n",
       "2                        Kimi wa Meido-sama.   \n",
       "3                     Cyberpunk: Edgerunners   \n",
       "4                  Vivy: Fluorite Eye's Song   \n",
       "\n",
       "                                              review   score  \n",
       "0  First review here so please bear with meBeen a...  0.9930  \n",
       "1  I've come to realize that I kind of do like th...  0.9076  \n",
       "2  nah you gotta pass this one honestly its way t...  0.9657  \n",
       "3  Bro... I ain't even know where to begin with t... -0.9618  \n",
       "4  Why are you reading this review and not watchi...  0.9878  "
      ]
     },
     "execution_count": 7,
     "metadata": {},
     "output_type": "execute_result"
    }
   ],
   "source": [
    "# Jalankan fungsi untuk menambahkan kolom 'score' pada dataset\n",
    "df['score'] = df['review'].apply(polarity_score)\n",
    "\n",
    "df.head()"
   ]
  },
  {
   "cell_type": "code",
   "execution_count": 8,
   "metadata": {},
   "outputs": [
    {
     "data": {
      "text/html": [
       "<div>\n",
       "<style scoped>\n",
       "    .dataframe tbody tr th:only-of-type {\n",
       "        vertical-align: middle;\n",
       "    }\n",
       "\n",
       "    .dataframe tbody tr th {\n",
       "        vertical-align: top;\n",
       "    }\n",
       "\n",
       "    .dataframe thead th {\n",
       "        text-align: right;\n",
       "    }\n",
       "</style>\n",
       "<table border=\"1\" class=\"dataframe\">\n",
       "  <thead>\n",
       "    <tr style=\"text-align: right;\">\n",
       "      <th></th>\n",
       "      <th>title</th>\n",
       "      <th>review</th>\n",
       "      <th>score</th>\n",
       "      <th>sentiment</th>\n",
       "    </tr>\n",
       "  </thead>\n",
       "  <tbody>\n",
       "    <tr>\n",
       "      <th>0</th>\n",
       "      <td>Beastars Final Season</td>\n",
       "      <td>First review here so please bear with meBeen a...</td>\n",
       "      <td>0.9930</td>\n",
       "      <td>positive</td>\n",
       "    </tr>\n",
       "    <tr>\n",
       "      <th>1</th>\n",
       "      <td>Clannad: Mou Hitotsu no Sekai, Tomoyo-hen</td>\n",
       "      <td>I've come to realize that I kind of do like th...</td>\n",
       "      <td>0.9076</td>\n",
       "      <td>positive</td>\n",
       "    </tr>\n",
       "    <tr>\n",
       "      <th>2</th>\n",
       "      <td>Kimi wa Meido-sama.</td>\n",
       "      <td>nah you gotta pass this one honestly its way t...</td>\n",
       "      <td>0.9657</td>\n",
       "      <td>positive</td>\n",
       "    </tr>\n",
       "    <tr>\n",
       "      <th>3</th>\n",
       "      <td>Cyberpunk: Edgerunners</td>\n",
       "      <td>Bro... I ain't even know where to begin with t...</td>\n",
       "      <td>-0.9618</td>\n",
       "      <td>negative</td>\n",
       "    </tr>\n",
       "    <tr>\n",
       "      <th>4</th>\n",
       "      <td>Vivy: Fluorite Eye's Song</td>\n",
       "      <td>Why are you reading this review and not watchi...</td>\n",
       "      <td>0.9878</td>\n",
       "      <td>positive</td>\n",
       "    </tr>\n",
       "  </tbody>\n",
       "</table>\n",
       "</div>"
      ],
      "text/plain": [
       "                                       title  \\\n",
       "0                      Beastars Final Season   \n",
       "1  Clannad: Mou Hitotsu no Sekai, Tomoyo-hen   \n",
       "2                        Kimi wa Meido-sama.   \n",
       "3                     Cyberpunk: Edgerunners   \n",
       "4                  Vivy: Fluorite Eye's Song   \n",
       "\n",
       "                                              review   score sentiment  \n",
       "0  First review here so please bear with meBeen a...  0.9930  positive  \n",
       "1  I've come to realize that I kind of do like th...  0.9076  positive  \n",
       "2  nah you gotta pass this one honestly its way t...  0.9657  positive  \n",
       "3  Bro... I ain't even know where to begin with t... -0.9618  negative  \n",
       "4  Why are you reading this review and not watchi...  0.9878  positive  "
      ]
     },
     "execution_count": 8,
     "metadata": {},
     "output_type": "execute_result"
    }
   ],
   "source": [
    "# Jalankan fungsi untuk menambahkan kolom 'sentiment' pada dataset\n",
    "df['sentiment'] = df['score'].apply(label_sentiment)\n",
    "\n",
    "df.head()"
   ]
  },
  {
   "cell_type": "code",
   "execution_count": 9,
   "metadata": {},
   "outputs": [
    {
     "name": "stdout",
     "output_type": "stream",
     "text": [
      "File disimpan pada ../datasets/top_anime_reviews_labeled.csv\n"
     ]
    }
   ],
   "source": [
    "# Simpan ke file csv baru\n",
    "df.to_csv(output_file_path, index=False)\n",
    "print(f\"File disimpan pada {output_file_path}\")"
   ]
  }
 ],
 "metadata": {
  "kernelspec": {
   "display_name": "Python 3",
   "language": "python",
   "name": "python3"
  },
  "language_info": {
   "codemirror_mode": {
    "name": "ipython",
    "version": 3
   },
   "file_extension": ".py",
   "mimetype": "text/x-python",
   "name": "python",
   "nbconvert_exporter": "python",
   "pygments_lexer": "ipython3",
   "version": "3.12.7"
  }
 },
 "nbformat": 4,
 "nbformat_minor": 2
}
