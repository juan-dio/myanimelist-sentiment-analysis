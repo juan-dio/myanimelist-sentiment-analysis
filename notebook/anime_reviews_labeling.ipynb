{
 "cells": [
  {
   "cell_type": "code",
   "execution_count": 1,
   "metadata": {},
   "outputs": [],
   "source": [
    "import pandas as pd\n",
    "from nltk.sentiment import SentimentIntensityAnalyzer\n",
    "import nltk"
   ]
  },
  {
   "cell_type": "code",
   "execution_count": 3,
   "metadata": {},
   "outputs": [
    {
     "name": "stderr",
     "output_type": "stream",
     "text": [
      "[nltk_data] Downloading package vader_lexicon to\n",
      "[nltk_data]     C:\\Users\\Juan\\AppData\\Roaming\\nltk_data...\n"
     ]
    },
    {
     "data": {
      "text/plain": [
       "True"
      ]
     },
     "execution_count": 3,
     "metadata": {},
     "output_type": "execute_result"
    }
   ],
   "source": [
    "# Download VADER resource\n",
    "nltk.download('vader_lexicon')"
   ]
  },
  {
   "cell_type": "code",
   "execution_count": 2,
   "metadata": {},
   "outputs": [
    {
     "data": {
      "text/html": [
       "<div>\n",
       "<style scoped>\n",
       "    .dataframe tbody tr th:only-of-type {\n",
       "        vertical-align: middle;\n",
       "    }\n",
       "\n",
       "    .dataframe tbody tr th {\n",
       "        vertical-align: top;\n",
       "    }\n",
       "\n",
       "    .dataframe thead th {\n",
       "        text-align: right;\n",
       "    }\n",
       "</style>\n",
       "<table border=\"1\" class=\"dataframe\">\n",
       "  <thead>\n",
       "    <tr style=\"text-align: right;\">\n",
       "      <th></th>\n",
       "      <th>title</th>\n",
       "      <th>review</th>\n",
       "    </tr>\n",
       "  </thead>\n",
       "  <tbody>\n",
       "    <tr>\n",
       "      <th>0</th>\n",
       "      <td>Tsue to Tsurugi no Wistoria</td>\n",
       "      <td>Story and characters are desperately boring, c...</td>\n",
       "    </tr>\n",
       "    <tr>\n",
       "      <th>1</th>\n",
       "      <td>Shoujo Kakumei Utena</td>\n",
       "      <td>this anime is phenomenal, and no show will giv...</td>\n",
       "    </tr>\n",
       "    <tr>\n",
       "      <th>2</th>\n",
       "      <td>Giji Harem</td>\n",
       "      <td>This piece of art is an absolute masterpiece! ...</td>\n",
       "    </tr>\n",
       "    <tr>\n",
       "      <th>3</th>\n",
       "      <td>Jingai-san no Yome</td>\n",
       "      <td>All I can say is that as dumb and nonsensical ...</td>\n",
       "    </tr>\n",
       "    <tr>\n",
       "      <th>4</th>\n",
       "      <td>Tsuma, Shougakusei ni Naru.</td>\n",
       "      <td>Short review:What I really like about the show...</td>\n",
       "    </tr>\n",
       "  </tbody>\n",
       "</table>\n",
       "</div>"
      ],
      "text/plain": [
       "                         title  \\\n",
       "0  Tsue to Tsurugi no Wistoria   \n",
       "1         Shoujo Kakumei Utena   \n",
       "2                   Giji Harem   \n",
       "3           Jingai-san no Yome   \n",
       "4  Tsuma, Shougakusei ni Naru.   \n",
       "\n",
       "                                              review  \n",
       "0  Story and characters are desperately boring, c...  \n",
       "1  this anime is phenomenal, and no show will giv...  \n",
       "2  This piece of art is an absolute masterpiece! ...  \n",
       "3  All I can say is that as dumb and nonsensical ...  \n",
       "4  Short review:What I really like about the show...  "
      ]
     },
     "execution_count": 2,
     "metadata": {},
     "output_type": "execute_result"
    }
   ],
   "source": [
    "# Load file\n",
    "input_file_path = '../datasets/anime_reviews.csv'\n",
    "output_file_path = '../datasets/anime_reviews_labeled.csv'\n",
    "\n",
    "# Read csv file\n",
    "df = pd.read_csv(input_file_path)\n",
    "\n",
    "df.head()"
   ]
  },
  {
   "cell_type": "code",
   "execution_count": 3,
   "metadata": {},
   "outputs": [],
   "source": [
    "# Inisialisasi VADER Sentiment Analyzer\n",
    "sia = SentimentIntensityAnalyzer()"
   ]
  },
  {
   "cell_type": "code",
   "execution_count": 4,
   "metadata": {},
   "outputs": [],
   "source": [
    "# Fungsi untuk menghitung polarity score\n",
    "def polarity_score(text):\n",
    "  scores = sia.polarity_scores(str(text))  # Convert to string in case of missing values\n",
    "  return scores['compound']"
   ]
  },
  {
   "cell_type": "code",
   "execution_count": 5,
   "metadata": {},
   "outputs": [],
   "source": [
    "# Fungsi untuk memberikan label sentiment\n",
    "def label_sentiment(score):\n",
    "  if score >= 0.05:\n",
    "    return 'positive'\n",
    "  elif score <= -0.05:\n",
    "    return 'negative'\n",
    "  else:\n",
    "    return 'neutral'"
   ]
  },
  {
   "cell_type": "code",
   "execution_count": 6,
   "metadata": {},
   "outputs": [
    {
     "data": {
      "text/html": [
       "<div>\n",
       "<style scoped>\n",
       "    .dataframe tbody tr th:only-of-type {\n",
       "        vertical-align: middle;\n",
       "    }\n",
       "\n",
       "    .dataframe tbody tr th {\n",
       "        vertical-align: top;\n",
       "    }\n",
       "\n",
       "    .dataframe thead th {\n",
       "        text-align: right;\n",
       "    }\n",
       "</style>\n",
       "<table border=\"1\" class=\"dataframe\">\n",
       "  <thead>\n",
       "    <tr style=\"text-align: right;\">\n",
       "      <th></th>\n",
       "      <th>title</th>\n",
       "      <th>review</th>\n",
       "      <th>score</th>\n",
       "    </tr>\n",
       "  </thead>\n",
       "  <tbody>\n",
       "    <tr>\n",
       "      <th>0</th>\n",
       "      <td>Tsue to Tsurugi no Wistoria</td>\n",
       "      <td>Story and characters are desperately boring, c...</td>\n",
       "      <td>-0.4815</td>\n",
       "    </tr>\n",
       "    <tr>\n",
       "      <th>1</th>\n",
       "      <td>Shoujo Kakumei Utena</td>\n",
       "      <td>this anime is phenomenal, and no show will giv...</td>\n",
       "      <td>0.7365</td>\n",
       "    </tr>\n",
       "    <tr>\n",
       "      <th>2</th>\n",
       "      <td>Giji Harem</td>\n",
       "      <td>This piece of art is an absolute masterpiece! ...</td>\n",
       "      <td>0.9810</td>\n",
       "    </tr>\n",
       "    <tr>\n",
       "      <th>3</th>\n",
       "      <td>Jingai-san no Yome</td>\n",
       "      <td>All I can say is that as dumb and nonsensical ...</td>\n",
       "      <td>-0.5940</td>\n",
       "    </tr>\n",
       "    <tr>\n",
       "      <th>4</th>\n",
       "      <td>Tsuma, Shougakusei ni Naru.</td>\n",
       "      <td>Short review:What I really like about the show...</td>\n",
       "      <td>0.9755</td>\n",
       "    </tr>\n",
       "  </tbody>\n",
       "</table>\n",
       "</div>"
      ],
      "text/plain": [
       "                         title  \\\n",
       "0  Tsue to Tsurugi no Wistoria   \n",
       "1         Shoujo Kakumei Utena   \n",
       "2                   Giji Harem   \n",
       "3           Jingai-san no Yome   \n",
       "4  Tsuma, Shougakusei ni Naru.   \n",
       "\n",
       "                                              review   score  \n",
       "0  Story and characters are desperately boring, c... -0.4815  \n",
       "1  this anime is phenomenal, and no show will giv...  0.7365  \n",
       "2  This piece of art is an absolute masterpiece! ...  0.9810  \n",
       "3  All I can say is that as dumb and nonsensical ... -0.5940  \n",
       "4  Short review:What I really like about the show...  0.9755  "
      ]
     },
     "execution_count": 6,
     "metadata": {},
     "output_type": "execute_result"
    }
   ],
   "source": [
    "# Jalankan fungsi untuk menambahkan kolom 'score' pada dataset\n",
    "df['score'] = df['review'].apply(polarity_score)\n",
    "\n",
    "df.head()"
   ]
  },
  {
   "cell_type": "code",
   "execution_count": 7,
   "metadata": {},
   "outputs": [
    {
     "data": {
      "text/html": [
       "<div>\n",
       "<style scoped>\n",
       "    .dataframe tbody tr th:only-of-type {\n",
       "        vertical-align: middle;\n",
       "    }\n",
       "\n",
       "    .dataframe tbody tr th {\n",
       "        vertical-align: top;\n",
       "    }\n",
       "\n",
       "    .dataframe thead th {\n",
       "        text-align: right;\n",
       "    }\n",
       "</style>\n",
       "<table border=\"1\" class=\"dataframe\">\n",
       "  <thead>\n",
       "    <tr style=\"text-align: right;\">\n",
       "      <th></th>\n",
       "      <th>title</th>\n",
       "      <th>review</th>\n",
       "      <th>score</th>\n",
       "      <th>sentiment</th>\n",
       "    </tr>\n",
       "  </thead>\n",
       "  <tbody>\n",
       "    <tr>\n",
       "      <th>0</th>\n",
       "      <td>Tsue to Tsurugi no Wistoria</td>\n",
       "      <td>Story and characters are desperately boring, c...</td>\n",
       "      <td>-0.4815</td>\n",
       "      <td>negative</td>\n",
       "    </tr>\n",
       "    <tr>\n",
       "      <th>1</th>\n",
       "      <td>Shoujo Kakumei Utena</td>\n",
       "      <td>this anime is phenomenal, and no show will giv...</td>\n",
       "      <td>0.7365</td>\n",
       "      <td>positive</td>\n",
       "    </tr>\n",
       "    <tr>\n",
       "      <th>2</th>\n",
       "      <td>Giji Harem</td>\n",
       "      <td>This piece of art is an absolute masterpiece! ...</td>\n",
       "      <td>0.9810</td>\n",
       "      <td>positive</td>\n",
       "    </tr>\n",
       "    <tr>\n",
       "      <th>3</th>\n",
       "      <td>Jingai-san no Yome</td>\n",
       "      <td>All I can say is that as dumb and nonsensical ...</td>\n",
       "      <td>-0.5940</td>\n",
       "      <td>negative</td>\n",
       "    </tr>\n",
       "    <tr>\n",
       "      <th>4</th>\n",
       "      <td>Tsuma, Shougakusei ni Naru.</td>\n",
       "      <td>Short review:What I really like about the show...</td>\n",
       "      <td>0.9755</td>\n",
       "      <td>positive</td>\n",
       "    </tr>\n",
       "  </tbody>\n",
       "</table>\n",
       "</div>"
      ],
      "text/plain": [
       "                         title  \\\n",
       "0  Tsue to Tsurugi no Wistoria   \n",
       "1         Shoujo Kakumei Utena   \n",
       "2                   Giji Harem   \n",
       "3           Jingai-san no Yome   \n",
       "4  Tsuma, Shougakusei ni Naru.   \n",
       "\n",
       "                                              review   score sentiment  \n",
       "0  Story and characters are desperately boring, c... -0.4815  negative  \n",
       "1  this anime is phenomenal, and no show will giv...  0.7365  positive  \n",
       "2  This piece of art is an absolute masterpiece! ...  0.9810  positive  \n",
       "3  All I can say is that as dumb and nonsensical ... -0.5940  negative  \n",
       "4  Short review:What I really like about the show...  0.9755  positive  "
      ]
     },
     "execution_count": 7,
     "metadata": {},
     "output_type": "execute_result"
    }
   ],
   "source": [
    "# Jalankan fungsi untuk menambahkan kolom 'sentiment' pada dataset\n",
    "df['sentiment'] = df['score'].apply(label_sentiment)\n",
    "\n",
    "df.head()"
   ]
  },
  {
   "cell_type": "code",
   "execution_count": 8,
   "metadata": {},
   "outputs": [
    {
     "name": "stdout",
     "output_type": "stream",
     "text": [
      "File disimpan pada ../datasets/anime_reviews_labeled.csv\n"
     ]
    }
   ],
   "source": [
    "# Simpan ke file csv baru\n",
    "df.to_csv(output_file_path, index=False)\n",
    "print(f\"File disimpan pada {output_file_path}\")"
   ]
  }
 ],
 "metadata": {
  "kernelspec": {
   "display_name": "Python 3",
   "language": "python",
   "name": "python3"
  },
  "language_info": {
   "codemirror_mode": {
    "name": "ipython",
    "version": 3
   },
   "file_extension": ".py",
   "mimetype": "text/x-python",
   "name": "python",
   "nbconvert_exporter": "python",
   "pygments_lexer": "ipython3",
   "version": "3.12.7"
  }
 },
 "nbformat": 4,
 "nbformat_minor": 2
}
